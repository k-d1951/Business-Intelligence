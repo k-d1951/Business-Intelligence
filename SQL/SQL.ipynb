{
 "cells": [
  {
   "cell_type": "code",
   "execution_count": null,
   "metadata": {
    "collapsed": true
   },
   "outputs": [],
   "source": []
  },
  {
   "cell_type": "code",
   "execution_count": null,
   "metadata": {
    "collapsed": true
   },
   "outputs": [],
   "source": [
    "#Query the sport and distinct number of athletes\n",
    "SELECT \n",
    "    sport, \n",
    "    Count(DISTINCT athlete_id) AS athletes\n",
    "FROM summer_games\n",
    "GROUP BY sport\n",
    "#Only include the 3 sports with the most athletes\n",
    "ORDER BY athletes\n",
    "LIMIT 3;"
   ]
  },
  {
   "cell_type": "code",
   "execution_count": null,
   "metadata": {
    "collapsed": true
   },
   "outputs": [],
   "source": [
    "#Query sport, events, and athletes from summer_games\n",
    "SELECT \n",
    "    sport, \n",
    "    COUNT(DISTINCT event) AS events, \n",
    "    COUNT(DISTINCT athlete_id) AS athletes\n",
    "FROM summer_games\n",
    "GROUP BY sport;"
   ]
  },
  {
   "cell_type": "code",
   "execution_count": null,
   "metadata": {
    "collapsed": true
   },
   "outputs": [],
   "source": [
    "#Select the age of the oldest athlete for each region\n",
    "SELECT \n",
    "\tregion, \n",
    "    MAX(age) AS age_of_oldest_athlete\n",
    "FROM athletes AS A\n",
    "-- First JOIN statement\n",
    "JOIN summer_games AS S  \n",
    "ON A.id = S.athlete_id\n",
    "-- Second JOIN statement\n",
    "JOIN countries AS C\n",
    "ON S.country_id = C.id\n"
   ]
  },
  {
   "cell_type": "code",
   "execution_count": null,
   "metadata": {
    "collapsed": true
   },
   "outputs": [],
   "source": []
  }
 ],
 "metadata": {
  "kernelspec": {
   "display_name": "Python 3",
   "language": "python",
   "name": "python3"
  },
  "language_info": {
   "codemirror_mode": {
    "name": "ipython",
    "version": 3
   },
   "file_extension": ".py",
   "mimetype": "text/x-python",
   "name": "python",
   "nbconvert_exporter": "python",
   "pygments_lexer": "ipython3",
   "version": "3.6.3"
  }
 },
 "nbformat": 4,
 "nbformat_minor": 2
}
